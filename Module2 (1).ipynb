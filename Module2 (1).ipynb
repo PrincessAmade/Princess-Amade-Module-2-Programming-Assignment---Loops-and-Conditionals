{
 "cells": [
  {
   "cell_type": "code",
   "execution_count": 1,
   "id": "76ffc8f9-a3f3-4967-96f6-148a86c72cd7",
   "metadata": {},
   "outputs": [
    {
     "name": "stdin",
     "output_type": "stream",
     "text": [
      "Choose a number between 1 and 10  1\n",
      "Choose another number between 1 and 10  5\n"
     ]
    },
    {
     "name": "stdout",
     "output_type": "stream",
     "text": [
      "too low\n"
     ]
    }
   ],
   "source": [
    "secret = input(\"Choose a number between 1 and 10 \")\n",
    "guess = input(\"Choose another number between 1 and 10 \")\n",
    "if guess>secret:\n",
    "    print(\"too low\")\n",
    "elif guess<secret:\n",
    "    print(\"too high\")\n",
    "elif guess == secret:\n",
    "    print(\"just right\")\n",
    "else:\n",
    "    print(\"invalid\")"
   ]
  },
  {
   "cell_type": "code",
   "execution_count": 2,
   "id": "7ca70784-830f-4551-aca4-a5ac549a066a",
   "metadata": {},
   "outputs": [
    {
     "name": "stdout",
     "output_type": "stream",
     "text": [
      "This is a cherry.\n"
     ]
    }
   ],
   "source": [
    "small = True    \n",
    "green = False   \n",
    "\n",
    "if small:\n",
    "    if green:\n",
    "        print(\"This is a pea.\")  \n",
    "    else:\n",
    "        print(\"This is a cherry.\")  \n",
    "else:\n",
    "    if green:\n",
    "        print(\"This is a watermelon.\")  \n",
    "    else:\n",
    "        print(\"This is a pumpkin.\") "
   ]
  },
  {
   "cell_type": "code",
   "execution_count": 3,
   "id": "9d586b47-7c27-4f4c-9893-85148b2675a1",
   "metadata": {},
   "outputs": [
    {
     "name": "stdout",
     "output_type": "stream",
     "text": [
      "3\n",
      "2\n",
      "1\n",
      "0\n"
     ]
    }
   ],
   "source": [
    "countdown = -1\n",
    "for i in range(3, countdown, -1):\n",
    " print(i)\n",
    "\n"
   ]
  },
  {
   "cell_type": "code",
   "execution_count": 4,
   "id": "395c478a-7eef-45cd-b94f-43c916c9931f",
   "metadata": {},
   "outputs": [
    {
     "name": "stdout",
     "output_type": "stream",
     "text": [
      "too low\n",
      "too low\n",
      "too low\n",
      "too low\n",
      "too low\n",
      "too low\n",
      "found it\n"
     ]
    }
   ],
   "source": [
    "guess_me = 7\n",
    "number = 1\n",
    "while True:\n",
    "    if number < guess_me:\n",
    "       print(\"too low\")\n",
    "    elif number == guess_me:\n",
    "       print(\"found it\")\n",
    "       break\n",
    "    else:\n",
    "       print(\"oops\")\n",
    "       break\n",
    "    number += 1\n"
   ]
  },
  {
   "cell_type": "code",
   "execution_count": 5,
   "id": "3cc85277-b50c-418d-b201-5bbc8baac05c",
   "metadata": {},
   "outputs": [
    {
     "name": "stdout",
     "output_type": "stream",
     "text": [
      "oops\n"
     ]
    }
   ],
   "source": [
    "guess_me = 5\n",
    "number = 10\n",
    "for i in range(0, number, 1):\n",
    "  if number < guess_me:\n",
    "      print(\"too low\")\n",
    "  elif number == guess_me:\n",
    "     print(\"found it\")\n",
    "     break\n",
    "  else:\n",
    "     print(\"oops\")\n",
    "     break\n",
    "\n",
    "\n"
   ]
  }
 ],
 "metadata": {
  "kernelspec": {
   "display_name": "Python 3 (ipykernel)",
   "language": "python",
   "name": "python3"
  },
  "language_info": {
   "codemirror_mode": {
    "name": "ipython",
    "version": 3
   },
   "file_extension": ".py",
   "mimetype": "text/x-python",
   "name": "python",
   "nbconvert_exporter": "python",
   "pygments_lexer": "ipython3",
   "version": "3.12.7"
  }
 },
 "nbformat": 4,
 "nbformat_minor": 5
}
